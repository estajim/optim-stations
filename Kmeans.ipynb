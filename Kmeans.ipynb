{
 "cells": [
  {
   "cell_type": "code",
   "execution_count": 21,
   "metadata": {
    "collapsed": true
   },
   "outputs": [],
   "source": [
    "import matplotlib.pyplot as plt\n",
    "import numpy as np\n",
    "import pandas as pd\n",
    "import sys, os\n",
    "from sklearn.cluster import KMeans\n",
    "path=os.path.expanduser(\"~/Desktop\")\n",
    "os.chdir(path)\n",
    "file = \"points_3.csv\"\n",
    "data=pd.read_csv(file)\n",
    "%matplotlib inline"
   ]
  },
  {
   "cell_type": "code",
   "execution_count": 22,
   "metadata": {
    "collapsed": false
   },
   "outputs": [
    {
     "data": {
      "text/html": [
       "<div>\n",
       "<style>\n",
       "    .dataframe thead tr:only-child th {\n",
       "        text-align: right;\n",
       "    }\n",
       "\n",
       "    .dataframe thead th {\n",
       "        text-align: left;\n",
       "    }\n",
       "\n",
       "    .dataframe tbody tr th {\n",
       "        vertical-align: top;\n",
       "    }\n",
       "</style>\n",
       "<table border=\"1\" class=\"dataframe\">\n",
       "  <thead>\n",
       "    <tr style=\"text-align: right;\">\n",
       "      <th></th>\n",
       "      <th>X</th>\n",
       "      <th>Y</th>\n",
       "    </tr>\n",
       "  </thead>\n",
       "  <tbody>\n",
       "    <tr>\n",
       "      <th>10919</th>\n",
       "      <td>-73.987680</td>\n",
       "      <td>40.759405</td>\n",
       "    </tr>\n",
       "    <tr>\n",
       "      <th>5655</th>\n",
       "      <td>-73.985981</td>\n",
       "      <td>40.772178</td>\n",
       "    </tr>\n",
       "    <tr>\n",
       "      <th>13761</th>\n",
       "      <td>-73.975299</td>\n",
       "      <td>40.778221</td>\n",
       "    </tr>\n",
       "    <tr>\n",
       "      <th>6402</th>\n",
       "      <td>-73.965316</td>\n",
       "      <td>40.797876</td>\n",
       "    </tr>\n",
       "    <tr>\n",
       "      <th>6026</th>\n",
       "      <td>-73.994980</td>\n",
       "      <td>40.720542</td>\n",
       "    </tr>\n",
       "  </tbody>\n",
       "</table>\n",
       "</div>"
      ],
      "text/plain": [
       "               X          Y\n",
       "10919 -73.987680  40.759405\n",
       "5655  -73.985981  40.772178\n",
       "13761 -73.975299  40.778221\n",
       "6402  -73.965316  40.797876\n",
       "6026  -73.994980  40.720542"
      ]
     },
     "execution_count": 22,
     "metadata": {},
     "output_type": "execute_result"
    }
   ],
   "source": [
    "data=data[[\"X\",\"Y\"]]\n",
    "from sklearn.model_selection import train_test_split\n",
    "X_train, X_test = train_test_split(data, test_size=0.2, random_state=1)\n",
    "X_train.head()"
   ]
  },
  {
   "cell_type": "code",
   "execution_count": 27,
   "metadata": {
    "collapsed": false
   },
   "outputs": [
    {
     "name": "stdout",
     "output_type": "stream",
     "text": [
      "[[-73.99281926  40.73863001]\n",
      " [-73.9675637   40.77483273]]\n",
      "-1.1401155621970247\n",
      "0.870635838806\n"
     ]
    }
   ],
   "source": [
    "from math import sin, cos, sqrt, atan2, radians\n",
    "from sklearn import metrics\n",
    "def dist(p1,p2):\n",
    "    R = 6373.0\n",
    "    lat1 = radians(p1[1])\n",
    "    lon1 = radians(p1[0])\n",
    "    lat2 = radians(p2[1])\n",
    "    lon2 = radians(p2[0])\n",
    "\n",
    "    dlon = lon2 - lon1\n",
    "    dlat = lat2 - lat1\n",
    "\n",
    "    a = sin(dlat / 2)**2 + cos(lat1) * cos(lat2) * sin(dlon / 2)**2\n",
    "    c = 2 * atan2(sqrt(a), sqrt(1 - a))\n",
    "\n",
    "    distance = R * c\n",
    "    return distance\n",
    "def avg_dist2(solver,dataset):\n",
    "    centroids=solver.cluster_centers_\n",
    "    row_labels=solver.labels_\n",
    "    labels=np.unique(solver.labels_)\n",
    "    labeled_dataset={}\n",
    "    rows=np.asarray(dataset)\n",
    "    for label, row in zip(row_labels,rows):\n",
    "        try:\n",
    "            labeled_dataset[label].append(row)\n",
    "        except KeyError:\n",
    "            labeled_dataset[label]=[row]\n",
    "        except AttributeError:\n",
    "            print(labeled_dataset[label])\n",
    "    for l,points in zip(labeled_dataset.keys(),labeled_dataset.values()):\n",
    "        s=0\n",
    "        for point in points:\n",
    "            s+=dist(centroids[l],point)\n",
    "    avg_dist=s/len(rows)\n",
    "    return avg_dist,avg_dist\n",
    "kmeans = KMeans(n_clusters=2, random_state=0).fit(X_train)\n",
    "kmeans.predict(X_test)\n",
    "centroids=kmeans.cluster_centers_\n",
    "score=kmeans.score(X_test)\n",
    "#print(centroids)\n",
    "#print(score)\n",
    "#print(avg_dist2(kmeans,X_train)[1])\n",
    "\n"
   ]
  },
  {
   "cell_type": "code",
   "execution_count": 29,
   "metadata": {
    "collapsed": false
   },
   "outputs": [
    {
     "data": {
      "image/png": "[encoded data removed]",
      "text/plain": [
       "<matplotlib.figure.Figure at 0x1a220f7d50>"
      ]
     },
     "metadata": {},
     "output_type": "display_data"
    },
    {
     "data": {
      "text/plain": [
       "Text(0,0.5,u'Average walking distance to the closest PD zone [km]')"
      ]
     },
     "execution_count": 29,
     "metadata": {},
     "output_type": "execute_result"
    },
    {
     "data": {
      "image/png": "[encoded data removed]",
      "text/plain": [
       "<matplotlib.figure.Figure at 0x1a12880f90>"
      ]
     },
     "metadata": {},
     "output_type": "display_data"
    }
   ],
   "source": [
    "k_list=np.arange(2,100)\n",
    "train_scores=list()\n",
    "test_scores=list()\n",
    "avg_distances=list()\n",
    "for k in k_list:\n",
    "    kmeans = KMeans(n_clusters=int(k), random_state=0).fit(X_train)\n",
    "    train_score=kmeans.score(X_train)\n",
    "    train_scores.append(train_score)\n",
    "    test_score=kmeans.score(X_test)\n",
    "    test_scores.append(test_score)\n",
    "    avg_distance=avg_dist2(kmeans,X_train)\n",
    "    avg_distances.append(avg_distance[1])\n",
    "#print(avg_distances)\n",
    "plt.figure(1)\n",
    "plt.plot(k_list,train_scores,label=\"Train set\")\n",
    "plt.plot(k_list,test_scores,label=\"Test set\")\n",
    "plt.xlabel(\"Number of PD zones\")\n",
    "plt.ylabel(\"Score\")\n",
    "plt.legend()\n",
    "plt.show()\n",
    "plt.figure(2)\n",
    "plt.plot(k_list,avg_distances)\n",
    "plt.xlabel(\"Number of PD zones\")\n",
    "plt.ylabel(\"Average walking distance [km]\")\n"
   ]
  }
 ],
 "metadata": {
  "kernelspec": {
   "display_name": "Python 3",
   "language": "python",
   "name": "python3"
  },
  "language_info": {
   "codemirror_mode": {
    "name": "ipython",
    "version": 3
   },
   "file_extension": ".py",
   "mimetype": "text/x-python",
   "name": "python",
   "nbconvert_exporter": "python",
   "pygments_lexer": "ipython3",
   "version": "3.6.0"
  }
 },
 "nbformat": 4,
 "nbformat_minor": 2
}
